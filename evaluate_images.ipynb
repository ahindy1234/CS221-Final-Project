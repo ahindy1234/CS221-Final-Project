{
 "cells": [
  {
   "cell_type": "code",
   "execution_count": 16,
   "id": "37088df8-97de-46cc-90de-38edd645b939",
   "metadata": {},
   "outputs": [
    {
     "name": "stdout",
     "output_type": "stream",
     "text": [
      "Predicted class: three-toed sloth\n",
      "Confidence: 15.33%\n"
     ]
    }
   ],
   "source": [
    "import torch\n",
    "from torchvision import transforms\n",
    "from torchvision.models import resnet\n",
    "from PIL import Image\n",
    "import requests\n",
    "from collections import namedtuple\n",
    "\n",
    "# Load the pre-trained ResNet-50 model\n",
    "model = resnet.resnet50(num_classes=1000, pretrained=True)\n",
    "\n",
    "# Download the ImageNet class labels\n",
    "LABELS_URL = \"https://raw.githubusercontent.com/anishathalye/imagenet-simple-labels/master/imagenet-simple-labels.json\"\n",
    "labels = requests.get(LABELS_URL).json()\n",
    "\n",
    "# Set the model to evaluation mode\n",
    "model.eval()\n",
    "\n",
    "# Define the transformation to be applied to your input image\n",
    "transform = transforms.Compose([\n",
    "    transforms.Resize((224, 224)),  # Resize the image to match the model's expected input size\n",
    "    transforms.ToTensor(),\n",
    "    transforms.Normalize(mean=[0.485, 0.456, 0.406], std=[0.229, 0.224, 0.225]),\n",
    "])\n",
    "\n",
    "# Load and preprocess your input image\n",
    "image_path = './datasets/frog_sample_1.png'\n",
    "image = Image.open(image_path).convert('RGB')  # Ensure the image has 3 channels\n",
    "image = transform(image).unsqueeze(0)  # Add a batch dimension\n",
    "\n",
    "# Make predictions\n",
    "with torch.no_grad():\n",
    "    output = model(image)\n",
    "\n",
    "# Get the predicted class and confidence\n",
    "probabilities = torch.nn.functional.softmax(output[0], dim=0)\n",
    "confidence, predicted_class = torch.max(probabilities, 0)\n",
    "\n",
    "# Get the class name\n",
    "class_name = labels[predicted_class.item()]\n",
    "\n",
    "print(f\"Predicted class: {class_name}\")\n",
    "print(f\"Confidence: {confidence.item() * 100:.2f}%\")\n"
   ]
  },
  {
   "cell_type": "code",
   "execution_count": 24,
   "id": "b8b0d4cf-6dd7-4073-9717-d6f4d0418f11",
   "metadata": {},
   "outputs": [
    {
     "name": "stdout",
     "output_type": "stream",
     "text": [
      "\u001b[31mERROR: Could not find a version that satisfies the requirement cifar10_models (from versions: none)\u001b[0m\u001b[31m\n",
      "\u001b[0m\u001b[31mERROR: No matching distribution found for cifar10_models\u001b[0m\u001b[31m\n",
      "\u001b[0mNote: you may need to restart the kernel to use updated packages.\n"
     ]
    }
   ],
   "source": [
    "%pip install cifar10_models"
   ]
  },
  {
   "cell_type": "code",
   "execution_count": 2,
   "id": "eb50fdce-ba3b-4a55-8438-44aac9b888ff",
   "metadata": {},
   "outputs": [
    {
     "name": "stdout",
     "output_type": "stream",
     "text": [
      "Files already downloaded and verified\n"
     ]
    }
   ],
   "source": [
    "import torch\n",
    "from torchvision import transforms, datasets\n",
    "from torchvision.models import resnet\n",
    "from torch.utils.data import DataLoader\n",
    "import os\n",
    "\n",
    "# # Set random seed for reproducibility\n",
    "# torch.manual_seed(42)\n",
    "\n",
    "# # Load the pre-trained ResNet-50 model\n",
    "# model = resnet.resnet50(num_classes=1000, pretrained=True)\n",
    "\n",
    "# # Set the model to evaluation mode\n",
    "# model.eval()\n",
    "\n",
    "# Define the transformation to be applied to your input image\n",
    "transform = transforms.Compose([\n",
    "    transforms.ToTensor(),\n",
    "    transforms.Normalize(mean=[0.4914, 0.4822, 0.4465], std=[0.2023, 0.1994, 0.2010]),\n",
    "])\n",
    "\n",
    "# Download CIFAR-10 dataset\n",
    "cifar_dataset = datasets.CIFAR10(root='./data', train=True, download=True, transform=transform)"
   ]
  },
  {
   "cell_type": "code",
   "execution_count": 3,
   "id": "0bc392ea-3ac0-4955-978e-8bf881148590",
   "metadata": {},
   "outputs": [
    {
     "name": "stderr",
     "output_type": "stream",
     "text": [
      "  0%|          | 0/1000 [00:00<?, ?it/s][W NNPACK.cpp:64] Could not initialize NNPACK! Reason: Unsupported hardware.\n",
      "100%|██████████| 1000/1000 [00:52<00:00, 19.13it/s]"
     ]
    },
    {
     "name": "stdout",
     "output_type": "stream",
     "text": [
      "Total correct predictions: 995\n"
     ]
    },
    {
     "name": "stderr",
     "output_type": "stream",
     "text": [
      "\n"
     ]
    }
   ],
   "source": [
    "# Create a DataLoader for the dataset\n",
    "from tqdm import tqdm\n",
    "from itertools import islice\n",
    "limited_dataloader = islice(DataLoader(cifar_dataset, batch_size=1, shuffle=True), 1000)\n",
    "# Loop through the images and make predictions\n",
    "correct_predictions = 0\n",
    "from resnet import resnet50\n",
    "\n",
    "# Set random seed for reproducibility\n",
    "torch.manual_seed(42)\n",
    "\n",
    "# Load the pre-trained ResNet-50 model\n",
    "model = resnet50(pretrained=True)\n",
    "\n",
    "# Set the model to evaluation mode\n",
    "model.eval()\n",
    "\n",
    "\n",
    "\n",
    "\n",
    "for i, (image, label) in tqdm(enumerate(limited_dataloader), total=1000):\n",
    "    with torch.no_grad():\n",
    "        output = model(image)\n",
    "\n",
    "    _, predicted_class = output.max(1)\n",
    "\n",
    "    # Check if the prediction is correct\n",
    "    correct_predictions += (predicted_class == label).item()\n",
    "\n",
    "# Print the total number of correct predictions\n",
    "print(f\"Total correct predictions: {correct_predictions}\")"
   ]
  },
  {
   "cell_type": "code",
   "execution_count": null,
   "id": "a173c2e4-6328-49a2-bb79-aebcb81cb425",
   "metadata": {},
   "outputs": [],
   "source": []
  }
 ],
 "metadata": {
  "kernelspec": {
   "display_name": "Python 3 (ipykernel)",
   "language": "python",
   "name": "python3"
  },
  "language_info": {
   "codemirror_mode": {
    "name": "ipython",
    "version": 3
   },
   "file_extension": ".py",
   "mimetype": "text/x-python",
   "name": "python",
   "nbconvert_exporter": "python",
   "pygments_lexer": "ipython3",
   "version": "3.9.18"
  }
 },
 "nbformat": 4,
 "nbformat_minor": 5
}
