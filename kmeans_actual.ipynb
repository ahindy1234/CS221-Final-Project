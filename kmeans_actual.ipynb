{
 "cells": [
  {
   "cell_type": "code",
   "execution_count": 98,
   "id": "02af36af",
   "metadata": {},
   "outputs": [],
   "source": [
    "import torch\n",
    "from torchvision import transforms, datasets\n",
    "from torchvision.models import resnet\n",
    "from torch.utils.data import DataLoader\n",
    "import os\n",
    "import numpy as np\n",
    "from sklearn.cluster import KMeans\n",
    "%matplotlib inline\n",
    "from matplotlib import pyplot as plt"
   ]
  },
  {
   "cell_type": "code",
   "execution_count": 99,
   "id": "0fc4424a",
   "metadata": {},
   "outputs": [
    {
     "name": "stdout",
     "output_type": "stream",
     "text": [
      "Files already downloaded and verified\n"
     ]
    }
   ],
   "source": [
    "do_transform = False\n",
    "transform = transforms.Compose([\n",
    "    transforms.ToTensor(),\n",
    "    transforms.Normalize(mean=[0.4914, 0.4822, 0.4465], std=[0.2023, 0.1994, 0.2010]),\n",
    "])\n",
    "if do_transform:\n",
    "    # Download CIFAR-10 dataset\n",
    "    cifar_dataset = datasets.CIFAR10(root='./data', train=True, download=True, transform=transform)\n",
    "else:\n",
    "     cifar_dataset = datasets.CIFAR10(root='./data', train=True, download=True)"
   ]
  },
  {
   "cell_type": "code",
   "execution_count": 100,
   "id": "2231aab2-b835-40c4-af14-692261e2530a",
   "metadata": {},
   "outputs": [
    {
     "name": "stdout",
     "output_type": "stream",
     "text": [
      "Images array shape: (50000, 32, 32, 3)\n",
      "Labels array shape: (50000,)\n"
     ]
    }
   ],
   "source": [
    "# Load CIFAR-10 data into a NumPy array\n",
    "# print(cifar_dataset.shape)\n",
    "images_array = []\n",
    "labels_array = []\n",
    "\n",
    "for i in range(len(cifar_dataset)):\n",
    "    image, label = cifar_dataset[i]\n",
    "    images_array.append(image)\n",
    "    labels_array.append(label)\n",
    "\n",
    "# Convert the tuple of NumPy arrays to NumPy arrays\n",
    "images_array = np.array(images_array)\n",
    "labels_array = np.array(labels_array)\n",
    "\n",
    "# Print the shape of the NumPy arrays\n",
    "print(\"Images array shape:\", images_array.shape)\n",
    "print(\"Labels array shape:\", labels_array.shape)"
   ]
  },
  {
   "cell_type": "code",
   "execution_count": 101,
   "metadata": {},
   "outputs": [],
   "source": [
    "import numpy as np\n",
    "import matplotlib.pyplot as plt\n",
    "from sklearn.cluster import KMeans\n",
    "\n",
    "# Assuming images_array and other variables are defined\n",
    "\n",
    "images = images_array[:100]\n",
    "flat_images = np.reshape(images, (images.shape[0], images.shape[1] * images.shape[2], images.shape[3]))\n",
    "N, size, D = flat_images.shape\n",
    "\n",
    "num_clusters = [5, 10, 20]\n",
    "output_images = np.zeros((len(num_clusters), N, size, D))\n",
    "\n",
    "for k in range(len(num_clusters)):\n",
    "    for i in range(N):\n",
    "        n = num_clusters[k]\n",
    "        kmeans = KMeans(n_clusters=n, n_init=\"auto\").fit(flat_images[i])\n",
    "        assignments = kmeans.labels_.reshape((size, 1))  # Reshape to broadcast cluster assignments\n",
    "        cluster_centers = kmeans.cluster_centers_\n",
    "        \n",
    "        # Use assignments as indices to select the cluster centers\n",
    "        output_images[k][i] = cluster_centers[assignments.flatten()]\n",
    "\n"
   ]
  },
  {
   "cell_type": "code",
   "execution_count": 103,
   "metadata": {},
   "outputs": [
    {
     "data": {
      "image/png": "[encoded data removed]",
      "text/plain": [
       "<Figure size 640x480 with 2 Axes>"
      ]
     },
     "metadata": {},
     "output_type": "display_data"
    }
   ],
   "source": [
    "\n",
    "# Assuming you want to plot the second output image\n",
    "second_output_image = output_images[1]\n",
    "\n",
    "# Choose an index for the image you want to visualize\n",
    "image_index = 0\n",
    "\n",
    "# Display the original and second output image\n",
    "plt.subplot(1, 2, 1)\n",
    "plt.imshow(images[image_index].astype(np.uint8).reshape((32,32,3)))  # Ensure the original image is uint8\n",
    "plt.title('Original Image')\n",
    "\n",
    "plt.subplot(1, 2, 2)\n",
    "plt.imshow(second_output_image[image_index].reshape(images.shape[1], images.shape[2], images.shape[3]).astype(np.uint8).reshape((32,32,3)))\n",
    "plt.title('Second Output Image')\n",
    "\n",
    "plt.show()"
   ]
  },
  {
   "cell_type": "code",
   "execution_count": 105,
   "metadata": {},
   "outputs": [],
   "source": [
    "def apply_transform(images):\n",
    "    transform = transforms.Compose([\n",
    "        transforms.ToTensor(),\n",
    "        transforms.Normalize(mean=[0.4914, 0.4822, 0.4465], std=[0.2023, 0.1994, 0.2010]),\n",
    "    ])\n",
    "    return np.array([transform(img) for img in images])\n",
    "\n",
    "images_to_train = apply_transform(images_array)\n",
    "compressed_images = apply_transform(output_images)"
   ]
  },
  {
   "cell_type": "code",
   "execution_count": 106,
   "metadata": {},
   "outputs": [],
   "source": [
    "import torch\n",
    "from torchvision import transforms\n",
    "from torch.utils.data import DataLoader, TensorDataset\n",
    "from tqdm import tqdm\n",
    "from itertools import islice\n",
    "from resnet import resnet50  # Assuming you have the resnet module\n",
    "\n",
    "# Load CIFAR-10 data into a NumPy array (images_array and labels_array)\n",
    "# ... (the code you provided)\n",
    "\n",
    "# Convert the NumPy arrays to PyTorch tensors\n",
    "output_images_reshaped = compressed_images[1, :, :, :]\n",
    "\n",
    "output_images_reshaped = np.reshape(output_images_reshaped, (100, 32, 32, 3))\n",
    "\n",
    "images_tensor = torch.tensor(images_to_train[:100])\n",
    "labels_tensor = torch.tensor(labels_array[:100])\n",
    "\n",
    "# Convert output_images to PyTorch tensor\n",
    "output_tensor = torch.tensor(output_images_reshaped)\n",
    "\n",
    "# images_tensor = images_tensor.permute(0, 3, 1, 2)\n",
    "output_tensor = output_tensor.permute(0, 3, 1, 2)\n",
    "\n"
   ]
  },
  {
   "cell_type": "code",
   "execution_count": null,
   "metadata": {},
   "outputs": [],
   "source": []
  },
  {
   "cell_type": "code",
   "execution_count": 107,
   "metadata": {},
   "outputs": [
    {
     "name": "stdout",
     "output_type": "stream",
     "text": [
      "torch.Size([100, 3, 32, 32])\n",
      "torch.Size([100])\n",
      "torch.Size([100, 3, 32, 32])\n"
     ]
    }
   ],
   "source": [
    "print(output_tensor.shape)\n",
    "print(labels_tensor.shape)\n",
    "print(images_tensor.shape)"
   ]
  },
  {
   "cell_type": "code",
   "execution_count": 108,
   "metadata": {},
   "outputs": [],
   "source": [
    "# Create separate DataLoaders for each dataset\n",
    "images_dataset = TensorDataset(images_tensor, labels_tensor)\n",
    "output_dataset = TensorDataset(output_tensor, labels_tensor)\n",
    "\n",
    "images_dataloader = islice(DataLoader(images_dataset, batch_size=1, shuffle=True), 1000)\n",
    "output_dataloader = islice(DataLoader(output_dataset, batch_size=1, shuffle=True), 1000)"
   ]
  },
  {
   "cell_type": "code",
   "execution_count": 109,
   "metadata": {},
   "outputs": [
    {
     "name": "stderr",
     "output_type": "stream",
     "text": [
      " 10%|█         | 100/1000 [00:03<00:29, 30.88it/s]\n",
      " 10%|█         | 100/1000 [00:03<00:29, 30.51it/s]"
     ]
    },
    {
     "name": "stdout",
     "output_type": "stream",
     "text": [
      "Total correct predictions for images: 100\n",
      "Total correct predictions for compressed images: 6\n"
     ]
    },
    {
     "name": "stderr",
     "output_type": "stream",
     "text": [
      "\n"
     ]
    }
   ],
   "source": [
    "\n",
    "\n",
    "# Set random seed for reproducibility\n",
    "torch.manual_seed(42)\n",
    "\n",
    "# Load the pre-trained ResNet-50 model\n",
    "model = resnet50(pretrained=True)\n",
    "\n",
    "# Set the model to evaluation mode\n",
    "model.eval()\n",
    "\n",
    "# Define the transformation to be applied to your input image\n",
    "\n",
    "\n",
    "# Loop through the images from images_dataloader and make predictions\n",
    "correct_predictions_images = 0\n",
    "for image, label in tqdm(images_dataloader, total=1000):\n",
    "    image = image.float()\n",
    "    with torch.no_grad():\n",
    "        output_image = model(image)\n",
    "    \n",
    "    _, predicted_class_images = output_image.max(1)\n",
    "    # Check if the predictions are correct\n",
    "    correct_predictions_images += (predicted_class_images == label).item()\n",
    "\n",
    "# Loop through the output_images and make predictions\n",
    "correct_predictions_output = 0\n",
    "for output, label in tqdm(output_dataloader, total=1000):\n",
    "    output = output.float()\n",
    "    with torch.no_grad():\n",
    "        out_image = model(output)\n",
    "    \n",
    "    _, predicted_class_output = out_image.max(1)\n",
    "\n",
    "    # Check if the predictions are correct\n",
    "    correct_predictions_output += (predicted_class_output == label).item()\n",
    "\n",
    "# Print the total number of correct predictions\n",
    "print(f\"Total correct predictions for images: {correct_predictions_images}\")\n",
    "print(f\"Total correct predictions for compressed images: {correct_predictions_output}\")\n"
   ]
  },
  {
   "cell_type": "code",
   "execution_count": null,
   "id": "6d01ae76-31df-4a96-bb89-6f5d085d6e44",
   "metadata": {},
   "outputs": [],
   "source": []
  }
 ],
 "metadata": {
  "kernelspec": {
   "display_name": "dshift",
   "language": "python",
   "name": "python3"
  },
  "language_info": {
   "codemirror_mode": {
    "name": "ipython",
    "version": 3
   },
   "file_extension": ".py",
   "mimetype": "text/x-python",
   "name": "python",
   "nbconvert_exporter": "python",
   "pygments_lexer": "ipython3",
   "version": "3.9.18"
  }
 },
 "nbformat": 4,
 "nbformat_minor": 5
}
